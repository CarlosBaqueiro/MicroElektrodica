{
 "cells": [
  {
   "cell_type": "code",
   "id": "initial_id",
   "metadata": {
    "collapsed": true,
    "jupyter": {
     "outputs_hidden": true
    },
    "ExecuteTime": {
     "end_time": "2025-01-20T04:10:32.181259Z",
     "start_time": "2025-01-20T04:10:32.179097Z"
    }
   },
   "source": "#Tutorial : Hydrogen Electro Oxidation Reaction",
   "outputs": [],
   "execution_count": 2
  },
  {
   "metadata": {
    "ExecuteTime": {
     "end_time": "2025-01-20T04:10:33.537112Z",
     "start_time": "2025-01-20T04:10:33.534816Z"
    }
   },
   "cell_type": "code",
   "source": [
    "#Introduction: \\n\n",
    "#The simulation estimates the rate kinetic constants from the provided thermodynamic data"
   ],
   "id": "15dc882152b651d3",
   "outputs": [],
   "execution_count": 3
  },
  {
   "metadata": {
    "ExecuteTime": {
     "end_time": "2025-01-20T04:10:38.377065Z",
     "start_time": "2025-01-20T04:10:35.190342Z"
    }
   },
   "cell_type": "code",
   "source": [
    "import os\n",
    "import numpy as np\n",
    "import matplotlib.pyplot as plt\n",
    "from matplotlib.lines import Line2D\n",
    "\n",
    "from melektrodica import Collector, Calculator, Coordinator, Fitter"
   ],
   "id": "39ade625d6264a49",
   "outputs": [],
   "execution_count": 4
  },
  {
   "metadata": {
    "ExecuteTime": {
     "end_time": "2025-01-20T04:16:43.902682Z",
     "start_time": "2025-01-20T04:16:43.889671Z"
    }
   },
   "cell_type": "code",
   "source": [
    "directory = os.path.join(\"..\",\"examples\",\"Wang2007Hydrogen\")\n",
    "data = Collector(directory)"
   ],
   "id": "496e1d9232cbb400",
   "outputs": [
    {
     "name": "stderr",
     "output_type": "stream",
     "text": [
      "\u001B[32mINFO: ***  Collector  ***\u001B[0m\n",
      "\u001B[32mINFO: Reading parameters from file: ../examples/Wang2007Hydrogen/parameters.md\u001B[0m\n",
      "\u001B[32mINFO: Parameters:\u001B[0m\n",
      "\u001B[32mINFO: Anode: True\u001B[0m\n",
      "\u001B[32mINFO: Operation conditions:\n",
      "\t\tTemperature: 296.15 K\n",
      "\t\tOverpotential: [0.0: 0.001: 0.5] V\u001B[0m\n",
      "\u001B[32mINFO: Pre-exponential factor: 500.0 (from j*)\u001B[0m\n",
      "\u001B[32mINFO: Thermochemical part details:\n",
      "\tDG_reaction: False\n",
      "\tG_formation: True\u001B[0m\n",
      "\u001B[32mINFO: Reading Species data from file: ../examples/Wang2007Hydrogen/species.md\u001B[0m\n",
      "\u001B[32mINFO: Species lists:\n",
      "\tReactants: ['H2']\n",
      "\tProducts: ['H+']\n",
      "\tAdsorbed species: ['H*']\n",
      "\tCatalysts: ['Pt']\u001B[0m\n",
      "\u001B[32mINFO: Initial concentrations processed.\u001B[0m\n",
      "\u001B[32mINFO: Catalyst matrix created.\u001B[0m\n",
      "\u001B[32mINFO: Formation energies processed\u001B[0m\n",
      "\u001B[32mINFO: Reading Reactions data from file: ../examples/Wang2007Hydrogen/reactions.md\u001B[0m\n",
      "\u001B[32mINFO: Reaction matrix processed.\u001B[0m\n",
      "\u001B[32mINFO: Thermochemical reactions parameters processed.\u001B[0m\n",
      "\u001B[32mINFO: ***  Data collection completed successfully.  ***\n",
      "\u001B[0m\n"
     ]
    }
   ],
   "execution_count": 8
  }
 ],
 "metadata": {
  "kernelspec": {
   "display_name": "Python 3 (ipykernel)",
   "language": "python",
   "name": "python3"
  },
  "language_info": {
   "codemirror_mode": {
    "name": "ipython",
    "version": 3
   },
   "file_extension": ".py",
   "mimetype": "text/x-python",
   "name": "python",
   "nbconvert_exporter": "python",
   "pygments_lexer": "ipython3",
   "version": "3.12.8"
  }
 },
 "nbformat": 4,
 "nbformat_minor": 5
}
