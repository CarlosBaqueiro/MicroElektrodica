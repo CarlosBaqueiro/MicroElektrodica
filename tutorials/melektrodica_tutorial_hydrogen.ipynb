{
 "cells": [
  {
   "metadata": {},
   "cell_type": "markdown",
   "source": [
    "# Tutorial: Hydrogen Electro Oxidation Reaction\n",
    "\n",
    "## Introduction\n",
    " The microkinetic model of hydrogen electro-oxidation (HOR) proposed by Wang et al. [@Wang2007_Hydrogen] is implemented here. The corresponding input files are available in the software repository's example folder.\n",
    "\n",
    "\n"
   ],
   "id": "d551613186a8b1f0"
  },
  {
   "metadata": {},
   "cell_type": "code",
   "source": [
    "import os\n",
    "import numpy as np\n",
    "import matplotlib.pyplot as plt\n",
    "from matplotlib.lines import Line2D\n",
    "\n",
    "from melektrodica import Collector, Calculator, Coordinator, Fitter"
   ],
   "id": "39ade625d6264a49",
   "outputs": [],
   "execution_count": null
  },
  {
   "metadata": {},
   "cell_type": "code",
   "source": "directory = os.path.join(\"examples\",\"Wang2007Hydrogen\")",
   "id": "496e1d9232cbb400",
   "outputs": [],
   "execution_count": null
  }
 ],
 "metadata": {
  "kernelspec": {
   "display_name": "Python 3 (ipykernel)",
   "language": "python",
   "name": "python3"
  },
  "language_info": {
   "codemirror_mode": {
    "name": "ipython",
    "version": 3
   },
   "file_extension": ".py",
   "mimetype": "text/x-python",
   "name": "python",
   "nbconvert_exporter": "python",
   "pygments_lexer": "ipython3",
   "version": "3.12.8"
  }
 },
 "nbformat": 4,
 "nbformat_minor": 5
}
