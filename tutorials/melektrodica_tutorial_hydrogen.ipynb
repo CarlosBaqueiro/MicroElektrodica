{
 "cells": [
  {
   "metadata": {},
   "cell_type": "markdown",
   "source": [
    "# Tutorial: Hydrogen Electro-Oxidation Reaction\n",
    "\n",
    "## Introduction\n",
    " The microkinetic model of hydrogen electro-oxidation (**HOR**) proposed by Wang et al. [1]. is implemented here. The HOR global reaction is :\n",
    "$$ \\ce{H2 + Pt <--> 2 H+ + 2e-}  $$\n",
    "The reaction mechanism is described by three elementary reaction steps\n",
    "$$\n",
    "\\begin{align}\n",
    "& \\text{Dissociative adsortion} & \\ce{H2 + 2 Pt <--> 2 H^{*}}  \\tag{DA} \\\\\n",
    "& \\text{Oxidative adsorption} & \\ce{H2 + Pt <--> H^{*} + H+ + e-}  \\tag{OA} \\\\\n",
    "& \\text{Oxidative desorption} & \\ce{H^{*} <--> Pt + H+ + e-}  \\tag{OD}\n",
    "\\end{align}\n",
    "$$\n",
    "\n",
    "Wang et al. [1] analyzed the adsorption isotherms of H on adatom (Atop) sites and hollow/bridge (H/B) sites.\n",
    "\n",
    "- **Atop sites**: These are positions where the adsorbed atom is located directly on a substrate atom (i.e., adsorption at a vertex position).\n",
    "- **Hollow/Bridge (H/B) sites**:\n",
    "  - *Hollow sites*: Located at the center of several substrate atoms, such as 3- or 4-coordinate sites in a crystal cell.\n",
    "  - *Bridge sites*: Intermediate positions between two substrate atoms.\n"
   ],
   "id": "d551613186a8b1f0"
  },
  {
   "metadata": {},
   "cell_type": "markdown",
   "source": "## Requirements",
   "id": "ee6cf984bbef5b6c"
  },
  {
   "metadata": {
    "ExecuteTime": {
     "end_time": "2025-01-22T19:39:56.170437Z",
     "start_time": "2025-01-22T19:39:55.466447Z"
    }
   },
   "cell_type": "code",
   "source": [
    "import os\n",
    "import copy\n",
    "import numpy as np\n",
    "import pandas as pd\n",
    "import matplotlib.pyplot as plt\n",
    "from matplotlib.lines import Line2D\n",
    "\n",
    "from melektrodica import Collector, Calculator, Coordinator, Fitter, Kpynetic, Writer\n",
    "\n",
    "def show_file(fname):\n",
    "    with open(fname, \"r\") as f:\n",
    "        file = f.read()\n",
    "        print(file)"
   ],
   "id": "e58e7233f1b5ab8a",
   "outputs": [],
   "execution_count": 1
  },
  {
   "metadata": {},
   "cell_type": "markdown",
   "source": "μElektrodica requires a **directory** containing tree input files:",
   "id": "eed945088cd3fe56"
  },
  {
   "metadata": {
    "ExecuteTime": {
     "end_time": "2025-01-22T19:39:56.177329Z",
     "start_time": "2025-01-22T19:39:56.174668Z"
    }
   },
   "cell_type": "code",
   "source": "directory = os.path.join(\"examples\",\"Wang2007Hydrogen\")",
   "id": "e8f84640821915ac",
   "outputs": [],
   "execution_count": 2
  },
  {
   "metadata": {},
   "cell_type": "markdown",
   "source": "- **parameters.md file**: It contains operating and numeric parameters such as temperature, active catalyst surface area, initial and final potential, potential step size, and a description of the data provided",
   "id": "70e022451dc8137d"
  },
  {
   "metadata": {
    "ExecuteTime": {
     "end_time": "2025-01-22T19:39:56.250865Z",
     "start_time": "2025-01-22T19:39:56.248309Z"
    }
   },
   "cell_type": "code",
   "source": "show_file(directory + \"/parameters.md\")",
   "id": "d8bd2807ad4e4f9a",
   "outputs": [
    {
     "name": "stdout",
     "output_type": "stream",
     "text": [
      "| Parameters                      | Variables                    | Value | Units |\n",
      "|:--------------------------------|:-----------------------------|------:|:-----:|\n",
      "| Electrode                       | Anode                        |  True |       |\n",
      "| Physics parameters              | Temperature                  |    23 |   C   |\n",
      "|                                 | Initial potential            |   0.0 |   V   |\n",
      "|                                 | Final potential              |   0.5 |   V   |\n",
      "|                                 | Step potential               | 0.001 |   V   |\n",
      "| Continuous Stirred-Tank Reactor | Concentration = f(potential) | False |       |\n",
      "|                                 | Catalyst Active surface area |   1.0 |  cm2  |\n",
      "|                                 | Volumetric flux              |   1.0 |  L/s  |\n",
      "| Rate Constants                  | --------------------------   |  ---- | ----  |\n",
      "| Pre-exponential                 | A                            |     1 |       |\n",
      "|                                 | j*                           |  True |       |\n",
      "|                                 | j* (value)                   |   500 | A/cm2 |\n",
      "| Transition state theory         | kappa * k_B * T^m / h        | False |       |\n",
      "|                                 | kappa                        |     1 |       |\n",
      "|                                 | m                            |     1 |       |\n",
      "| Experimental                    | k_f, k_b                     | False |       |\n",
      "| Chemical                        | Ga, DG_reaction              |  True |       |\n",
      "|                                 | DG_reaction                  | False |       |\n",
      "|                                 | G_formation                  |  True |       |\n",
      "\n",
      " \n"
     ]
    }
   ],
   "execution_count": 3
  },
  {
   "metadata": {},
   "cell_type": "markdown",
   "source": "- **species.md file** : Includes a list of species with their characteristics organized in columns: Species (name or identification), RPACe (role played by the species: **R**eactant, **P**roduct, **A**dsorbate, **C**atalyst, or **e**lectrical charge), c0 (initial concentrations), Catalyst (species on which it is adsorbed)  and other relevant properties. The column order is flexible, but the headers are essential.\n",
   "id": "b03c5f40e86e90bf"
  },
  {
   "metadata": {
    "ExecuteTime": {
     "end_time": "2025-01-22T19:39:56.296658Z",
     "start_time": "2025-01-22T19:39:56.293724Z"
    }
   },
   "cell_type": "code",
   "source": "show_file(directory + \"/species.md\")",
   "id": "d0add8e810693166",
   "outputs": [
    {
     "name": "stdout",
     "output_type": "stream",
     "text": [
      "| Species | RPACe | DG_formation |   c0 | Catalyst |\n",
      "|---------|:-----:|-------------:|-----:|:---------|\n",
      "| H2      |   R   |          0.0 |  1.0 |          |\n",
      "| H+      |   P   |          0.0 |  1.0 |          |\n",
      "| H*      |   A   |       -18e-3 |      | Pt       |\n",
      "| Pt      |   C   |          0.0 |      |          |\n",
      "| e-      |   e   |          0.0 |      |          |\n",
      "\n"
     ]
    }
   ],
   "execution_count": 4
  },
  {
   "metadata": {},
   "cell_type": "markdown",
   "source": "- **reactions.md file** : It contains the list of reactions with their characteristics organized in columns. Maintaining the headers is crucial, as it ensures consistent nomenclature for the species across both the species and reaction files. The order of the columns itself is not important.",
   "id": "4365c4499c074ce4"
  },
  {
   "metadata": {
    "ExecuteTime": {
     "end_time": "2025-01-22T19:39:56.343147Z",
     "start_time": "2025-01-22T19:39:56.340455Z"
    }
   },
   "cell_type": "code",
   "source": "show_file(directory + \"/reactions.md\")",
   "id": "8646a16e57699f27",
   "outputs": [
    {
     "name": "stdout",
     "output_type": "stream",
     "text": [
      "| id | Reactions                |     Ga | Beta |\n",
      "|----|--------------------------|-------:|-----:|\n",
      "| DA | H2 + 2Pt <-> 2H*         | 196e-3 |  0.0 |\n",
      "| OA | H2 + Pt <-> H* + H+ + e- | 500e-3 |  0.5 |\n",
      "| OD | H* <-> Pt + H+ + e-      | 290e-3 |  0.5 |\n"
     ]
    }
   ],
   "execution_count": 5
  },
  {
   "metadata": {},
   "cell_type": "markdown",
   "source": [
    "## Coverages factors\n",
    "The **Collector** class allows for retrieving **data** from input files in **directory**. It is necessary to initialize **Kpynetic** with the retrieved **data** to ensure that functions and calculations, which are independent of the potential, can be properly initialized and executed. The **Calculator** module focuses on the numerical solution of the system of nonlinear equations that describe the steady state. This module provides the concentrations and coverage factors as functions of the potential."
   ],
   "id": "c504717183aa7f2e"
  },
  {
   "metadata": {
    "ExecuteTime": {
     "end_time": "2025-01-22T19:41:16.072820Z",
     "start_time": "2025-01-22T19:41:14.774171Z"
    }
   },
   "cell_type": "code",
   "source": [
    "writer = Writer(log_file=\"Wang2007Hydrogen.log\", log_directory=directory)\n",
    "# H/B sites\n",
    "data = Collector(directory)\n",
    "Kpy = Kpynetic(data)\n",
    "melek = Calculator(Kpy, 'hb' )\n",
    "# Retrieving data from Wang et al. [1]\n",
    "h_hb = pd.read_csv(directory + \"/WangData/coverages_hb.csv\", comment='#').values\n",
    "j_hb = pd.read_csv(directory + \"/WangData/current_hb.csv\", comment='#').values\n",
    "\n",
    "# Atop sites\n",
    "data_atop = copy.deepcopy(data)\n",
    "data_atop.species.g_formation_ads = np.array([75]) * 1e-3\n",
    "data_atop.reactions.ga = np.array([196, 294, 48]) * 1e-3\n",
    "Kpy_atop = Kpynetic(data_atop)\n",
    "melek_atop = Calculator(Kpy_atop, 'atop')\n",
    "# Retrieving data from Wang et al. [1]\n",
    "h_atop = pd.read_csv(directory + \"/WangData/coverages_atop.csv\", comment='#').values\n",
    "j_atop = pd.read_csv(directory + \"/WangData/current_atop.csv\", comment='#').values\n",
    "\n",
    "collection = {\"H/B\": (\"o\", \":\", h_hb), \"Atop\": (\"x\", \"-\", h_atop)}\n",
    "figname = os.path.join(directory, \"WangHydrogen_theta.png\")\n",
    "plt.plot(melek.potential, melek.results.theta, linestyle=\":\", color=\"tab:orange\")\n",
    "plt.plot(melek.potential, melek_atop.results.theta, linestyle=\"-\", color=\"tab:orange\")\n",
    "for label, (mark, linest, data) in collection.items():\n",
    "    plt.plot(data[:, 0], data[:, 1], marker=mark, linestyle=\"\", color=\"tab:blue\")\n",
    "plt.xlabel(\"Overpotential [V]\")\n",
    "plt.ylabel(r\"$\\theta_j$\")\n",
    "plt.minorticks_on()\n",
    "plt.tight_layout()\n",
    "species_legend = [\n",
    "    Line2D([0],[0], marker=\"o\", markerfacecolor=\"tab:blue\", markeredgecolor=\"tab:blue\", linestyle=\":\", color=\"tab:orange\", label=rf\"H/B\" ),\n",
    "    Line2D([0],[0], marker=\"x\", markerfacecolor=\"tab:blue\", markeredgecolor=\"tab:blue\", linestyle=\"-\", color=\"tab:orange\", label=rf\"Atop\"),\n",
    "    ]\n",
    "solutions_legend = [\n",
    "    Line2D([0],[0], color=\"tab:blue\", lw=2, linestyle=\":\", label=\"Wang et. al. 2007\"  ),\n",
    "    Line2D([0],[0], color=\"tab:orange\", lw=2, linestyle=\":\", label=r\"$\\mu$Elektrodica\"),\n",
    "    ]\n",
    "first_legend = plt.legend(handles=species_legend, loc=\"center left\")\n",
    "plt.gca().add_artist(first_legend)\n",
    "plt.legend(handles=solutions_legend, loc=\"center right\")\n",
    "plt.tight_layout()\n",
    "plt.xlim(0, 0.5)\n",
    "plt.savefig(figname, dpi=300, bbox_inches=\"tight\", format=\"png\")\n",
    "plt.show()"
   ],
   "id": "496e1d9232cbb400",
   "outputs": [
    {
     "data": {
      "text/plain": [
       "<Figure size 640x480 with 1 Axes>"
      ],
      "image/png": "[encoded data removed]"
     },
     "metadata": {},
     "output_type": "display_data"
    }
   ],
   "execution_count": 7
  },
  {
   "metadata": {},
   "cell_type": "markdown",
   "source": [
    "## References\n",
    "1. Wang, J. X., Springer, T. E., Liu, P., Shao, M., and Adzic, R. R. (2007). Hydrogen oxidation reaction on Pt in acidic media: Adsorption isotherm and activation free energies. The Journal of Physical Chemistry C, 111(33), 12425-12433, https://doi.org/10.1021/jp073400i."
   ],
   "id": "81c89d09cd9d2e91"
  }
 ],
 "metadata": {
  "kernelspec": {
   "display_name": "Python 3 (ipykernel)",
   "language": "python",
   "name": "python3"
  },
  "language_info": {
   "codemirror_mode": {
    "name": "ipython",
    "version": 3
   },
   "file_extension": ".py",
   "mimetype": "text/x-python",
   "name": "python",
   "nbconvert_exporter": "python",
   "pygments_lexer": "ipython3",
   "version": "3.12.8"
  }
 },
 "nbformat": 4,
 "nbformat_minor": 5
}
