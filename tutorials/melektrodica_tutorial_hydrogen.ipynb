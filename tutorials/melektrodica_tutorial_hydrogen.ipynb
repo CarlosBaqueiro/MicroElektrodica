{
 "cells": [
  {
   "metadata": {},
   "cell_type": "markdown",
   "source": [
    "# Tutorial: Hydrogen Electro-Oxidation Reaction\n",
    "\n",
    "## Introduction\n",
    " The microkinetic model of hydrogen electro-oxidation (**HOR**) proposed by Wang et al. [1]. is implemented here. The HOR global reaction is :\n",
    "$$ \\ce{H2 + Pt <--> 2 H+ + 2e-}  $$\n",
    "The reaction mechanism is described by three elementary reaction steps\n",
    "$$\n",
    "\\begin{align}\n",
    "&\\ce{H2 + 2 Pt <--> 2 H^{*}} & \\text{dissociative adsortion} \\tag{DA} \\\\\n",
    "&\\ce{H2 + Pt <--> H^{*} + H+ + e-} & \\text{oxidative adsorption} \\tag{OA} \\\\\n",
    "&\\ce{H^{*} <--> Pt + H+ + e-} & \\text{oxidative desorption} \\tag{OD}\n",
    "\\end{align}\n",
    "$$\n",
    "\n",
    "Wang et al. [1] analyzed the adsorption isotherms of H on adatom (Atop) sites and hollow/bridge (H/B) sites.\n",
    "\n",
    "- **Atop sites**: These are positions where the adsorbed atom is located directly on a substrate atom (i.e., adsorption at a vertex position).\n",
    "- **Hollow/Bridge (H/B) sites**:\n",
    "  - *Hollow sites*: Located at the center of several substrate atoms, such as 3- or 4-coordinate sites in a crystal cell.\n",
    "  - *Bridge sites*: Intermediate positions between two substrate atoms.\n"
   ],
   "id": "d551613186a8b1f0"
  },
  {
   "metadata": {},
   "cell_type": "markdown",
   "source": [
    "## Input files\n",
    "The corresponding input files are available in the software repository's tutorials/example folder."
   ],
   "id": "d2fd18887e6bb4a7"
  },
  {
   "metadata": {
    "ExecuteTime": {
     "end_time": "2025-01-22T03:59:28.089483Z",
     "start_time": "2025-01-22T03:59:28.086176Z"
    }
   },
   "cell_type": "code",
   "source": [
    "import os\n",
    "import numpy as np\n",
    "import matplotlib.pyplot as plt\n",
    "from matplotlib.lines import Line2D\n",
    "\n",
    "from melektrodica import Collector, Calculator, Coordinator, Fitter, Kpynetic, Writer"
   ],
   "id": "39ade625d6264a49",
   "outputs": [],
   "execution_count": 7
  },
  {
   "metadata": {
    "ExecuteTime": {
     "end_time": "2025-01-22T03:59:28.154974Z",
     "start_time": "2025-01-22T03:59:28.098307Z"
    }
   },
   "cell_type": "code",
   "source": [
    "directory = os.path.join(\"examples\",\"Wang2007Hydrogen\")\n",
    "writer = Writer(log_file=\"Wang2007Hydrogen.log\", log_directory=directory)\n",
    "data = Collector(directory)\n",
    "Kpy = Kpynetic(data)"
   ],
   "id": "496e1d9232cbb400",
   "outputs": [
    {
     "name": "stderr",
     "output_type": "stream",
     "text": [
      "\u001B[32mINFO: ***  Collector  ***\u001B[0m\n",
      "\u001B[32mINFO: Reading parameters from file: examples/Wang2007Hydrogen/parameters.md\u001B[0m\n",
      "\u001B[32mINFO: Parameters:\u001B[0m\n",
      "\u001B[32mINFO: Anode: True\u001B[0m\n",
      "\u001B[32mINFO: Operation conditions:\n",
      "\t\tTemperature: 296.15 K\n",
      "\t\tOverpotential: [0.0: 0.001: 0.5] V\u001B[0m\n",
      "\u001B[32mINFO: Pre-exponential factor: 500.0 (from j*)\u001B[0m\n",
      "\u001B[32mINFO: Thermochemical part details:\n",
      "\tDG_reaction: False\n",
      "\tG_formation: True\u001B[0m\n",
      "\u001B[32mINFO: Reading Species data from file: examples/Wang2007Hydrogen/species.md\u001B[0m\n",
      "\u001B[32mINFO: Species lists:\n",
      "\tReactants: ['H2']\n",
      "\tProducts: ['H+']\n",
      "\tAdsorbed species: ['H*']\n",
      "\tCatalysts: ['Pt']\u001B[0m\n",
      "\u001B[32mINFO: Initial concentrations processed.\u001B[0m\n",
      "\u001B[32mINFO: Catalyst matrix created.\u001B[0m\n",
      "\u001B[32mINFO: Formation energies processed\u001B[0m\n",
      "\u001B[32mINFO: Reading Reactions data from file: examples/Wang2007Hydrogen/reactions.md\u001B[0m\n",
      "\u001B[32mINFO: Reaction matrix processed.\u001B[0m\n",
      "\u001B[32mINFO: Thermochemical reactions parameters processed.\u001B[0m\n",
      "\u001B[32mINFO: ***  Data collection completed successfully.  ***\n",
      "\u001B[0m\n",
      "\u001B[32mINFO: *** Kpynetic :  ***\u001B[0m\n"
     ]
    }
   ],
   "execution_count": 8
  },
  {
   "metadata": {},
   "cell_type": "markdown",
   "source": "",
   "id": "d4bfef81b28a6f7e"
  },
  {
   "metadata": {},
   "cell_type": "markdown",
   "source": "",
   "id": "5acd19dfc20742d"
  },
  {
   "metadata": {},
   "cell_type": "markdown",
   "source": [
    "## References\n",
    "1. Wang, J. X., Springer, T. E., Liu, P., Shao, M., and Adzic, R. R. (2007). Hydrogen oxidation reaction on Pt in acidic media: Adsorption isotherm and activation free energies. The Journal of Physical Chemistry C, 111(33), 12425-12433, https://doi.org/10.1021/jp073400i."
   ],
   "id": "81c89d09cd9d2e91"
  }
 ],
 "metadata": {
  "kernelspec": {
   "display_name": "Python 3 (ipykernel)",
   "language": "python",
   "name": "python3"
  },
  "language_info": {
   "codemirror_mode": {
    "name": "ipython",
    "version": 3
   },
   "file_extension": ".py",
   "mimetype": "text/x-python",
   "name": "python",
   "nbconvert_exporter": "python",
   "pygments_lexer": "ipython3",
   "version": "3.12.8"
  }
 },
 "nbformat": 4,
 "nbformat_minor": 5
}
