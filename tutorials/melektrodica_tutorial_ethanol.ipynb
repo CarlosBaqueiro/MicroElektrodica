{
 "cells": [
  {
   "metadata": {},
   "cell_type": "markdown",
   "source": [
    "# Tutorial: Ethanol Electro-Oxydation Reaction\n",
    "\n",
    "## Introduction"
   ],
   "id": "a1035223e6bc1030"
  },
  {
   "metadata": {
    "collapsed": true
   },
   "cell_type": "code",
   "outputs": [],
   "execution_count": null,
   "source": [
    "import os\n",
    "import copy\n",
    "import numpy as np\n",
    "import pandas as pd\n",
    "import matplotlib.pyplot as plt\n",
    "from matplotlib.lines import Line2D\n",
    "\n",
    "from melektrodica import *\n",
    "directory = os.path.join(\"examples\",\"SanchezMonreal2017Ethanol\")\n",
    "writer = Writer(log_file=\"SanchezMonreal2017Ethanol.log\", log_directory=directory)\n",
    "data = Collector(directory)\n",
    "Kpy = Kpynetic(data)\n",
    "melek = Calculator(Kpy)"
   ],
   "id": "initial_id"
  }
 ],
 "metadata": {
  "kernelspec": {
   "display_name": "Python 3",
   "language": "python",
   "name": "python3"
  },
  "language_info": {
   "codemirror_mode": {
    "name": "ipython",
    "version": 2
   },
   "file_extension": ".py",
   "mimetype": "text/x-python",
   "name": "python",
   "nbconvert_exporter": "python",
   "pygments_lexer": "ipython2",
   "version": "2.7.6"
  }
 },
 "nbformat": 4,
 "nbformat_minor": 5
}
